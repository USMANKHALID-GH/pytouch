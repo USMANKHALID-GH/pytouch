{
 "cells": [
  {
   "cell_type": "code",
   "execution_count": 1,
   "metadata": {},
   "outputs": [],
   "source": [
    "import pandas as pd\n",
    "import numpy as np\n",
    "import  torch\n",
    "import matplotlib.pyplot as plt"
   ]
  },
  {
   "cell_type": "code",
   "execution_count": 21,
   "metadata": {},
   "outputs": [
    {
     "name": "stdout",
     "output_type": "stream",
     "text": [
      "1.13.1+cpu\n"
     ]
    }
   ],
   "source": [
    "print(torch.__version__)"
   ]
  },
  {
   "cell_type": "code",
   "execution_count": null,
   "metadata": {},
   "outputs": [],
   "source": []
  },
  {
   "cell_type": "code",
   "execution_count": null,
   "metadata": {},
   "outputs": [],
   "source": []
  },
  {
   "cell_type": "code",
   "execution_count": 3,
   "metadata": {
    "pycharm": {
     "name": "#%%\n"
    }
   },
   "outputs": [],
   "source": [
    "scalar=torch.tensor(7)"
   ]
  },
  {
   "cell_type": "code",
   "execution_count": 4,
   "metadata": {
    "pycharm": {
     "name": "#%%\n"
    }
   },
   "outputs": [
    {
     "data": {
      "text/plain": [
       "tensor(7)"
      ]
     },
     "execution_count": 4,
     "metadata": {},
     "output_type": "execute_result"
    }
   ],
   "source": [
    "scalar\n"
   ]
  },
  {
   "cell_type": "code",
   "execution_count": 9,
   "metadata": {
    "pycharm": {
     "name": "#%%\n"
    }
   },
   "outputs": [],
   "source": [
    "vector=torch.tensor([7,7])"
   ]
  },
  {
   "cell_type": "code",
   "execution_count": 7,
   "metadata": {},
   "outputs": [
    {
     "data": {
      "text/plain": [
       "tensor([7, 7])"
      ]
     },
     "execution_count": 7,
     "metadata": {},
     "output_type": "execute_result"
    }
   ],
   "source": [
    "vector"
   ]
  },
  {
   "cell_type": "code",
   "execution_count": 6,
   "metadata": {},
   "outputs": [
    {
     "data": {
      "text/plain": [
       "1"
      ]
     },
     "execution_count": 6,
     "metadata": {},
     "output_type": "execute_result"
    }
   ],
   "source": [
    "vector.ndim"
   ]
  },
  {
   "cell_type": "code",
   "execution_count": 10,
   "metadata": {},
   "outputs": [],
   "source": [
    "matrix=torch.tensor([[7,7],[7,7]])"
   ]
  },
  {
   "cell_type": "code",
   "execution_count": 11,
   "metadata": {},
   "outputs": [
    {
     "name": "stdout",
     "output_type": "stream",
     "text": [
      "torch.Size([2, 2])\n",
      "2\n",
      "tensor([[7, 7],\n",
      "        [7, 7]])\n"
     ]
    }
   ],
   "source": [
    "print(matrix.shape)\n",
    "print(matrix.ndim)\n",
    "print(matrix)"
   ]
  },
  {
   "cell_type": "code",
   "execution_count": 13,
   "metadata": {},
   "outputs": [],
   "source": [
    "TENSOR=torch.tensor([\n",
    "    [\n",
    "        [7,7],\n",
    "        [7,7],\n",
    "        [7,7],\n",
    "    ]\n",
    "])"
   ]
  },
  {
   "cell_type": "code",
   "execution_count": 14,
   "metadata": {},
   "outputs": [
    {
     "name": "stdout",
     "output_type": "stream",
     "text": [
      "torch.Size([1, 3, 2])\n",
      "3\n",
      "tensor([[[7, 7],\n",
      "         [7, 7],\n",
      "         [7, 7]]])\n"
     ]
    }
   ],
   "source": [
    "print(TENSOR.shape)\n",
    "print(TENSOR.ndim)\n",
    "print(TENSOR)"
   ]
  },
  {
   "cell_type": "code",
   "execution_count": 16,
   "metadata": {},
   "outputs": [],
   "source": [
    "RAN_TENSOR=torch.rand(3,4)"
   ]
  },
  {
   "cell_type": "code",
   "execution_count": 17,
   "metadata": {},
   "outputs": [
    {
     "name": "stdout",
     "output_type": "stream",
     "text": [
      "torch.Size([3, 4])\n",
      "2\n",
      "tensor([[0.4962, 0.0114, 0.2964, 0.3103],\n",
      "        [0.0510, 0.4331, 0.6672, 0.7491],\n",
      "        [0.9621, 0.6472, 0.6240, 0.8159]])\n"
     ]
    }
   ],
   "source": [
    "print(RAN_TENSOR.shape)\n",
    "print(RAN_TENSOR.ndim)\n",
    "print(RAN_TENSOR)"
   ]
  },
  {
   "cell_type": "code",
   "execution_count": 19,
   "metadata": {},
   "outputs": [],
   "source": [
    "imge_TENSOR=torch.rand(size=(180,180,3))"
   ]
  },
  {
   "cell_type": "code",
   "execution_count": 20,
   "metadata": {},
   "outputs": [
    {
     "name": "stdout",
     "output_type": "stream",
     "text": [
      "torch.Size([180, 180, 3])\n",
      "3\n",
      "tensor([[[0.4743, 0.0605, 0.7006],\n",
      "         [0.8862, 0.1457, 0.6809],\n",
      "         [0.7444, 0.6936, 0.4801],\n",
      "         ...,\n",
      "         [0.7563, 0.9434, 0.0652],\n",
      "         [0.1147, 0.6385, 0.9820],\n",
      "         [0.7468, 0.5717, 0.8095]],\n",
      "\n",
      "        [[0.1452, 0.9738, 0.4944],\n",
      "         [0.7258, 0.8439, 0.1389],\n",
      "         [0.8290, 0.7143, 0.8472],\n",
      "         ...,\n",
      "         [0.1609, 0.4560, 0.6355],\n",
      "         [0.2710, 0.2374, 0.2461],\n",
      "         [0.0795, 0.8157, 0.1857]],\n",
      "\n",
      "        [[0.9925, 0.1178, 0.7092],\n",
      "         [0.8181, 0.7869, 0.4796],\n",
      "         [0.6209, 0.0896, 0.3819],\n",
      "         ...,\n",
      "         [0.6416, 0.8300, 0.3435],\n",
      "         [0.5146, 0.3575, 0.8645],\n",
      "         [0.9557, 0.6419, 0.3707]],\n",
      "\n",
      "        ...,\n",
      "\n",
      "        [[0.4395, 0.8263, 0.3753],\n",
      "         [0.4509, 0.4881, 0.1704],\n",
      "         [0.5533, 0.6175, 0.6258],\n",
      "         ...,\n",
      "         [0.1604, 0.6136, 0.3495],\n",
      "         [0.0439, 0.0718, 0.6941],\n",
      "         [0.8702, 0.3370, 0.5036]],\n",
      "\n",
      "        [[0.5866, 0.0663, 0.6093],\n",
      "         [0.8015, 0.9554, 0.1284],\n",
      "         [0.2394, 0.0536, 0.6562],\n",
      "         ...,\n",
      "         [0.4144, 0.5184, 0.0925],\n",
      "         [0.6767, 0.7502, 0.7211],\n",
      "         [0.6443, 0.4031, 0.3342]],\n",
      "\n",
      "        [[0.4029, 0.1614, 0.2839],\n",
      "         [0.8656, 0.2720, 0.3865],\n",
      "         [0.5142, 0.5210, 0.4597],\n",
      "         ...,\n",
      "         [0.0197, 0.2576, 0.0440],\n",
      "         [0.9015, 0.3701, 0.1199],\n",
      "         [0.0108, 0.7883, 0.1084]]])\n"
     ]
    }
   ],
   "source": [
    "print(imge_TENSOR.shape)\n",
    "print(imge_TENSOR.ndim)\n",
    "print(imge_TENSOR)"
   ]
  },
  {
   "cell_type": "code",
   "execution_count": 22,
   "metadata": {},
   "outputs": [
    {
     "data": {
      "text/plain": [
       "False"
      ]
     },
     "execution_count": 22,
     "metadata": {},
     "output_type": "execute_result"
    }
   ],
   "source": [
    "torch.cuda.is_available()"
   ]
  },
  {
   "cell_type": "code",
   "execution_count": 24,
   "metadata": {},
   "outputs": [],
   "source": [
    "device= \"gpu\"  if torch.cuda.is_available() else \"cpu\""
   ]
  }
 ],
 "metadata": {
  "kernelspec": {
   "display_name": "Python 3 (ipykernel)",
   "language": "python",
   "name": "python3"
  },
  "language_info": {
   "codemirror_mode": {
    "name": "ipython",
    "version": 3
   },
   "file_extension": ".py",
   "mimetype": "text/x-python",
   "name": "python",
   "nbconvert_exporter": "python",
   "pygments_lexer": "ipython3",
   "version": "3.10.7"
  }
 },
 "nbformat": 4,
 "nbformat_minor": 1
}
