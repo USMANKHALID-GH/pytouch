{
 "cells": [
  {
   "cell_type": "code",
   "execution_count": 19,
   "id": "e836ab20",
   "metadata": {},
   "outputs": [],
   "source": [
    "import torch\n",
    "from  torch import nn "
   ]
  },
  {
   "cell_type": "code",
   "execution_count": 7,
   "id": "4392e9ad",
   "metadata": {},
   "outputs": [],
   "source": [
    "bias=0.4\n",
    "weight=.9\n",
    "\n",
    "X=torch.arange(0,1,0.02).unsqueeze(dim=1)\n",
    "y=weight*X+bias"
   ]
  },
  {
   "cell_type": "code",
   "execution_count": 6,
   "id": "9651e248",
   "metadata": {},
   "outputs": [
    {
     "data": {
      "text/plain": [
       "(tensor([[-0.4000],\n",
       "         [-0.3820],\n",
       "         [-0.3640],\n",
       "         [-0.3460],\n",
       "         [-0.3280],\n",
       "         [-0.3100],\n",
       "         [-0.2920],\n",
       "         [-0.2740],\n",
       "         [-0.2560],\n",
       "         [-0.2380],\n",
       "         [-0.2200],\n",
       "         [-0.2020],\n",
       "         [-0.1840],\n",
       "         [-0.1660],\n",
       "         [-0.1480],\n",
       "         [-0.1300],\n",
       "         [-0.1120],\n",
       "         [-0.0940],\n",
       "         [-0.0760],\n",
       "         [-0.0580],\n",
       "         [-0.0400],\n",
       "         [-0.0220],\n",
       "         [-0.0040],\n",
       "         [ 0.0140],\n",
       "         [ 0.0320],\n",
       "         [ 0.0500],\n",
       "         [ 0.0680],\n",
       "         [ 0.0860],\n",
       "         [ 0.1040],\n",
       "         [ 0.1220],\n",
       "         [ 0.1400],\n",
       "         [ 0.1580],\n",
       "         [ 0.1760],\n",
       "         [ 0.1940],\n",
       "         [ 0.2120],\n",
       "         [ 0.2300],\n",
       "         [ 0.2480],\n",
       "         [ 0.2660],\n",
       "         [ 0.2840],\n",
       "         [ 0.3020],\n",
       "         [ 0.3200],\n",
       "         [ 0.3380],\n",
       "         [ 0.3560],\n",
       "         [ 0.3740],\n",
       "         [ 0.3920],\n",
       "         [ 0.4100],\n",
       "         [ 0.4280],\n",
       "         [ 0.4460],\n",
       "         [ 0.4640],\n",
       "         [ 0.4820]]),\n",
       " tensor([[0.0000],\n",
       "         [0.0200],\n",
       "         [0.0400],\n",
       "         [0.0600],\n",
       "         [0.0800],\n",
       "         [0.1000],\n",
       "         [0.1200],\n",
       "         [0.1400],\n",
       "         [0.1600],\n",
       "         [0.1800],\n",
       "         [0.2000],\n",
       "         [0.2200],\n",
       "         [0.2400],\n",
       "         [0.2600],\n",
       "         [0.2800],\n",
       "         [0.3000],\n",
       "         [0.3200],\n",
       "         [0.3400],\n",
       "         [0.3600],\n",
       "         [0.3800],\n",
       "         [0.4000],\n",
       "         [0.4200],\n",
       "         [0.4400],\n",
       "         [0.4600],\n",
       "         [0.4800],\n",
       "         [0.5000],\n",
       "         [0.5200],\n",
       "         [0.5400],\n",
       "         [0.5600],\n",
       "         [0.5800],\n",
       "         [0.6000],\n",
       "         [0.6200],\n",
       "         [0.6400],\n",
       "         [0.6600],\n",
       "         [0.6800],\n",
       "         [0.7000],\n",
       "         [0.7200],\n",
       "         [0.7400],\n",
       "         [0.7600],\n",
       "         [0.7800],\n",
       "         [0.8000],\n",
       "         [0.8200],\n",
       "         [0.8400],\n",
       "         [0.8600],\n",
       "         [0.8800],\n",
       "         [0.9000],\n",
       "         [0.9200],\n",
       "         [0.9400],\n",
       "         [0.9600],\n",
       "         [0.9800]]))"
      ]
     },
     "execution_count": 6,
     "metadata": {},
     "output_type": "execute_result"
    }
   ],
   "source": [
    "y, X"
   ]
  },
  {
   "cell_type": "code",
   "execution_count": 8,
   "id": "8bbcf025",
   "metadata": {},
   "outputs": [
    {
     "data": {
      "text/plain": [
       "40"
      ]
     },
     "execution_count": 8,
     "metadata": {},
     "output_type": "execute_result"
    }
   ],
   "source": [
    "train_split=int(.8*len(X))\n",
    "train_split"
   ]
  },
  {
   "cell_type": "code",
   "execution_count": 9,
   "id": "f772cf21",
   "metadata": {},
   "outputs": [],
   "source": [
    "X_train, y_train=X[:train_split], X[:train_split]\n",
    "X_test,y_test=X[train_split:], X[train_split:]"
   ]
  },
  {
   "cell_type": "code",
   "execution_count": 10,
   "id": "bf17e42b",
   "metadata": {},
   "outputs": [
    {
     "data": {
      "text/plain": [
       "(40, 40, 10, 10)"
      ]
     },
     "execution_count": 10,
     "metadata": {},
     "output_type": "execute_result"
    }
   ],
   "source": [
    "len(X_train),len(y_train),len(X_test),len(y_test)"
   ]
  },
  {
   "cell_type": "code",
   "execution_count": 31,
   "id": "70aa0302",
   "metadata": {},
   "outputs": [],
   "source": [
    "class LinearModel(nn.Module):\n",
    "    def __init__(self):\n",
    "        super().__init__()\n",
    "        self.weight=nn.Parameter(torch.randn(1,dtype=torch.float),requires_grad=True)\n",
    "        self.bias=nn.parameter.Parameter(torch.randn(1,dtype=torch.float),requires_grad=True)\n",
    "    \n",
    "    \n",
    "    def forward(self,x)->torch.Tensor:\n",
    "        return self.weight*x+self.bias"
   ]
  },
  {
   "cell_type": "code",
   "execution_count": null,
   "id": "c5bd3bf8",
   "metadata": {},
   "outputs": [],
   "source": []
  },
  {
   "cell_type": "code",
   "execution_count": 32,
   "id": "cbffc64a",
   "metadata": {},
   "outputs": [],
   "source": [
    "torch.manual_seed(42)\n",
    "model_0=LinearModel()"
   ]
  },
  {
   "cell_type": "code",
   "execution_count": 33,
   "id": "f78b9ca1",
   "metadata": {},
   "outputs": [
    {
     "data": {
      "text/plain": [
       "OrderedDict([('weight', tensor([0.3367])), ('bias', tensor([0.1288]))])"
      ]
     },
     "execution_count": 33,
     "metadata": {},
     "output_type": "execute_result"
    }
   ],
   "source": [
    "model_0.state_dict()"
   ]
  },
  {
   "cell_type": "code",
   "execution_count": 34,
   "id": "09f79913",
   "metadata": {},
   "outputs": [],
   "source": [
    "with torch.inference_mode():\n",
    "    y_pred=model_0(X_test)"
   ]
  },
  {
   "cell_type": "code",
   "execution_count": 37,
   "id": "3bf32dad",
   "metadata": {},
   "outputs": [
    {
     "data": {
      "text/plain": [
       "(tensor([[0.3982],\n",
       "         [0.4049],\n",
       "         [0.4116],\n",
       "         [0.4184],\n",
       "         [0.4251],\n",
       "         [0.4318],\n",
       "         [0.4386],\n",
       "         [0.4453],\n",
       "         [0.4520],\n",
       "         [0.4588]]),\n",
       " tensor([[0.8000],\n",
       "         [0.8200],\n",
       "         [0.8400],\n",
       "         [0.8600],\n",
       "         [0.8800],\n",
       "         [0.9000],\n",
       "         [0.9200],\n",
       "         [0.9400],\n",
       "         [0.9600],\n",
       "         [0.9800]]))"
      ]
     },
     "execution_count": 37,
     "metadata": {},
     "output_type": "execute_result"
    }
   ],
   "source": [
    "y_pred,X_test"
   ]
  },
  {
   "cell_type": "code",
   "execution_count": 55,
   "id": "5e32f11c",
   "metadata": {},
   "outputs": [],
   "source": [
    "# Create the loss function\n",
    "loss_fn = nn.L1Loss() # MAE loss is same as L1Loss\n",
    "\n",
    "# Create the optimizer\n",
    "optimizer = torch.optim.SGD(params=model_0.parameters(), # parameters of target model to optimize\n",
    "                            lr=0.001)"
   ]
  },
  {
   "cell_type": "code",
   "execution_count": 56,
   "id": "2b9b6a97",
   "metadata": {},
   "outputs": [
    {
     "name": "stdout",
     "output_type": "stream",
     "text": [
      "Epoch: 0 | MAE Train Loss: 0.0034436702262610197 | MAE Test Loss: 0.004985594656318426 \n",
      "Epoch: 10 | MAE Train Loss: 0.0006549620302394032 | MAE Test Loss: 0.00143230555113405 \n",
      "Epoch: 20 | MAE Train Loss: 0.0003116043226327747 | MAE Test Loss: 0.0006736218929290771 \n",
      "Epoch: 30 | MAE Train Loss: 0.00044524535769596696 | MAE Test Loss: 0.0011127472389489412 \n",
      "Epoch: 40 | MAE Train Loss: 0.00044524535769596696 | MAE Test Loss: 0.0011127472389489412 \n",
      "Epoch: 50 | MAE Train Loss: 0.00044524535769596696 | MAE Test Loss: 0.0011127472389489412 \n",
      "Epoch: 60 | MAE Train Loss: 0.00044524535769596696 | MAE Test Loss: 0.0011127472389489412 \n",
      "Epoch: 70 | MAE Train Loss: 0.00044524535769596696 | MAE Test Loss: 0.0011127472389489412 \n",
      "Epoch: 80 | MAE Train Loss: 0.00044524535769596696 | MAE Test Loss: 0.0011127472389489412 \n",
      "Epoch: 90 | MAE Train Loss: 0.00044524535769596696 | MAE Test Loss: 0.0011127472389489412 \n",
      "Epoch: 100 | MAE Train Loss: 0.00044524535769596696 | MAE Test Loss: 0.0011127472389489412 \n",
      "Epoch: 110 | MAE Train Loss: 0.00044524535769596696 | MAE Test Loss: 0.0011127472389489412 \n",
      "Epoch: 120 | MAE Train Loss: 0.00044524535769596696 | MAE Test Loss: 0.0011127472389489412 \n",
      "Epoch: 130 | MAE Train Loss: 0.00044524535769596696 | MAE Test Loss: 0.0011127472389489412 \n",
      "Epoch: 140 | MAE Train Loss: 0.00044524535769596696 | MAE Test Loss: 0.0011127472389489412 \n"
     ]
    }
   ],
   "source": [
    "torch.manual_seed(42)\n",
    "\n",
    "# Set the number of epochs (how many times the model will pass over the training data)\n",
    "epochs = 150\n",
    "\n",
    "# Create empty loss lists to track values\n",
    "train_loss_values = []\n",
    "test_loss_values = []\n",
    "epoch_count = []\n",
    "\n",
    "for epoch in range(epochs):\n",
    "    ### Training\n",
    "\n",
    "    # Put model in training mode (this is the default state of a model)\n",
    "    model_0.train()\n",
    "\n",
    "    # 1. Forward pass on train data using the forward() method inside \n",
    "    y_pred = model_0(X_train)\n",
    "    # print(y_pred)\n",
    "\n",
    "    # 2. Calculate the loss (how different are our models predictions to the ground truth)\n",
    "    loss = loss_fn(y_pred, y_train)\n",
    "\n",
    "    # 3. Zero grad of the optimizer\n",
    "    optimizer.zero_grad()\n",
    "\n",
    "    # 4. Loss backwards\n",
    "    loss.backward()\n",
    "\n",
    "    # 5. Progress the optimizer\n",
    "    optimizer.step()\n",
    "\n",
    "    ### Testing\n",
    "\n",
    "    # Put the model in evaluation mode\n",
    "    model_0.eval()\n",
    "\n",
    "    with torch.inference_mode():\n",
    "      # 1. Forward pass on test data\n",
    "      test_pred = model_0(X_test)\n",
    "\n",
    "      # 2. Caculate loss on test data\n",
    "      test_loss = loss_fn(test_pred, y_test.type(torch.float)) # predictions come in torch.float datatype, so comparisons need to be done with tensors of the same type\n",
    "\n",
    "      # Print out what's happening\n",
    "      if epoch % 10 == 0:\n",
    "            epoch_count.append(epoch)\n",
    "            train_loss_values.append(loss.detach().numpy())\n",
    "            test_loss_values.append(test_loss.detach().numpy())\n",
    "            print(f\"Epoch: {epoch} | MAE Train Loss: {loss} | MAE Test Loss: {test_loss} \")"
   ]
  },
  {
   "cell_type": "code",
   "execution_count": 57,
   "id": "d1cb5520",
   "metadata": {},
   "outputs": [
    {
     "data": {
      "image/png": "[encoded data removed]",
      "text/plain": [
       "<Figure size 640x480 with 1 Axes>"
      ]
     },
     "metadata": {},
     "output_type": "display_data"
    }
   ],
   "source": [
    "import matplotlib.pyplot as plt\n",
    "plt.plot(epoch_count, train_loss_values, label=\"Train loss\")\n",
    "plt.plot(epoch_count, test_loss_values, label=\"Test loss\")\n",
    "plt.title(\"Training and test loss curves\")\n",
    "plt.ylabel(\"Loss\")\n",
    "plt.xlabel(\"Epochs\")\n",
    "plt.legend();"
   ]
  },
  {
   "cell_type": "code",
   "execution_count": 58,
   "id": "ef358828",
   "metadata": {},
   "outputs": [
    {
     "name": "stdout",
     "output_type": "stream",
     "text": [
      "The model learned the following values for weights and bias:\n",
      "OrderedDict([('weight', tensor([0.9996])), ('bias', tensor([0.0006]))])\n",
      "\n",
      "And the original values for weights and bias are:\n",
      "weights: 0.9, bias: 0.4\n"
     ]
    }
   ],
   "source": [
    "# Find our model's learned parameters\n",
    "print(\"The model learned the following values for weights and bias:\")\n",
    "print(model_0.state_dict())\n",
    "print(\"\\nAnd the original values for weights and bias are:\")\n",
    "print(f\"weights: {weight}, bias: {bias}\")"
   ]
  },
  {
   "cell_type": "code",
   "execution_count": 59,
   "id": "7f212cd6",
   "metadata": {},
   "outputs": [
    {
     "data": {
      "text/plain": [
       "(tensor([[0.8003],\n",
       "         [0.8203],\n",
       "         [0.8403],\n",
       "         [0.8602],\n",
       "         [0.8802],\n",
       "         [0.9002],\n",
       "         [0.9202],\n",
       "         [0.9402],\n",
       "         [0.9602],\n",
       "         [0.9802]]),)"
      ]
     },
     "execution_count": 59,
     "metadata": {},
     "output_type": "execute_result"
    }
   ],
   "source": [
    "# 1. Set the model in evaluation mode\n",
    "model_0.eval()\n",
    "\n",
    "# 2. Setup the inference mode context manager\n",
    "with torch.inference_mode():\n",
    "  # 3. Make sure the calculations are done with the model and data on the same device\n",
    "  # in our case, we haven't setup device-agnostic code yet so our data and model are\n",
    "  # on the CPU by default.\n",
    "  # model_0.to(device)\n",
    "  # X_test = X_test.to(device)\n",
    "  y_preds = model_0(X_test)\n",
    "y_preds,"
   ]
  },
  {
   "cell_type": "code",
   "execution_count": 48,
   "id": "70a3bc91",
   "metadata": {},
   "outputs": [
    {
     "data": {
      "text/plain": [
       "tensor([[0.8000],\n",
       "        [0.8200],\n",
       "        [0.8400],\n",
       "        [0.8600],\n",
       "        [0.8800],\n",
       "        [0.9000],\n",
       "        [0.9200],\n",
       "        [0.9400],\n",
       "        [0.9600],\n",
       "        [0.9800]])"
      ]
     },
     "execution_count": 48,
     "metadata": {},
     "output_type": "execute_result"
    }
   ],
   "source": [
    "y_test"
   ]
  }
 ],
 "metadata": {
  "kernelspec": {
   "display_name": "Python 3 (ipykernel)",
   "language": "python",
   "name": "python3"
  },
  "language_info": {
   "codemirror_mode": {
    "name": "ipython",
    "version": 3
   },
   "file_extension": ".py",
   "mimetype": "text/x-python",
   "name": "python",
   "nbconvert_exporter": "python",
   "pygments_lexer": "ipython3",
   "version": "3.10.7"
  }
 },
 "nbformat": 4,
 "nbformat_minor": 5
}
